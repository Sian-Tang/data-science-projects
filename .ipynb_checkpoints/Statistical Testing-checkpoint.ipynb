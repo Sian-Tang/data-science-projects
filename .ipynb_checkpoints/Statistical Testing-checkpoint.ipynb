{
 "cells": [
  {
   "cell_type": "markdown",
   "id": "3a405914",
   "metadata": {},
   "source": [
    "# Statistical Testing Guide\n",
    "You are given a dataset and expected to perform some statistical testing. \n",
    "\n",
    "Let us have a look at the most common statistical tests:\n",
    "\n",
    "|Test|Description|\n",
    "|---|---|\n",
    "|T-Test|Compare the means of two groups and determine significance between them|\n",
    "|ANOVA|Compare means of three or more groups determine significance between them|\n",
    "|Chi-squared test|check significant association between two categorical variables, used to test hypotheses|\n",
    "|Regression analysis|model relationship between dependent variable and independent variable(s), predict value|\n",
    "|Correlation analysis|Measure relationship between two variables|"
   ]
  },
  {
   "cell_type": "markdown",
   "id": "1b836b78",
   "metadata": {},
   "source": [
    "### Load packages"
   ]
  },
  {
   "cell_type": "code",
   "execution_count": 3,
   "id": "7a856d85",
   "metadata": {},
   "outputs": [],
   "source": [
    "# general packages\n",
    "import pandas as pd\n",
    "import numpy as np\n",
    "import matplotlib.pyplot as plt\n",
    "import seaborn as sns"
   ]
  },
  {
   "cell_type": "code",
   "execution_count": 28,
   "id": "50a8e9ee",
   "metadata": {},
   "outputs": [],
   "source": [
    "# statistical packages\n",
    "# two-sample t-test\n",
    "from scipy.stats import ttest_ind\n",
    "\n",
    "# ANOVA\n",
    "from statsmodels.formula.api import ols\n",
    "\n",
    "# chi-squared test\n",
    "from scipy.stats import chi2_contingency\n",
    "\n",
    "# linear regression\n",
    "from sklearn.linear_model import LinearRegression\n",
    "\n",
    "# logistic regression\n",
    "from sklearn.linear_model import LogisticRegression\n",
    "\n",
    "# Pearson correlation coefficient\n",
    "from scipy.stats import pearsonr\n",
    "\n",
    "# Spearman rank correlation coefficient\n",
    "from scipy.stats import spearmanr"
   ]
  },
  {
   "cell_type": "markdown",
   "id": "4d207005",
   "metadata": {},
   "source": [
    "### Two-sample T-Test"
   ]
  },
  {
   "cell_type": "markdown",
   "id": "eb677421",
   "metadata": {},
   "source": [
    "Generate data"
   ]
  },
  {
   "cell_type": "code",
   "execution_count": 19,
   "id": "d00d163a",
   "metadata": {},
   "outputs": [],
   "source": [
    "# Set the seed for the random number generator\n",
    "np.random.seed(42)\n",
    "\n",
    "# Generate data for group 1 with a mean of 10 and a standard deviation of 2\n",
    "data1 = np.random.normal(10, 2, size=50)\n",
    "\n",
    "# Generate data for group 2 with a mean of 12 and a standard deviation of 3\n",
    "data2 = np.random.normal(12, 3, size=60)"
   ]
  },
  {
   "cell_type": "code",
   "execution_count": 20,
   "id": "4ff0b686",
   "metadata": {},
   "outputs": [
    {
     "name": "stdout",
     "output_type": "stream",
     "text": [
      "First data group has the following first datapoints:\n",
      "[10.99342831  9.7234714  11.29537708 13.04605971  9.53169325]\n",
      "Second data group has the following first datapoints:\n",
      "[12.97225191 10.84475316  9.969234   13.83502887 15.09299857]\n"
     ]
    }
   ],
   "source": [
    "print(f'First data group has the following first datapoints:\\n{data1[:5]}')\n",
    "print(f'Second data group has the following first datapoints:\\n{data2[:5]}')"
   ]
  },
  {
   "cell_type": "code",
   "execution_count": 22,
   "id": "83728434",
   "metadata": {},
   "outputs": [
    {
     "name": "stdout",
     "output_type": "stream",
     "text": [
      "t-statistics: -5.620237794392159\n",
      "p-value: 1.5049918582392246e-07 \n"
     ]
    }
   ],
   "source": [
    "# Perform the t-test\n",
    "t_stat, p = ttest_ind(data1, data2)\n",
    "\n",
    "# Print the results\n",
    "print('t-statistics: {}\\np-value: {} '.format(t_stat, p))"
   ]
  },
  {
   "cell_type": "markdown",
   "id": "2cdab474",
   "metadata": {},
   "source": [
    "t-statistics describes a significant difference of the two means\n",
    "\n",
    "$p < \\alpha = 0.05$: That means we can reject the null hypothesis in favor of the alternative hypothesis which is that there is a significant difference in the means of the two groups"
   ]
  },
  {
   "cell_type": "markdown",
   "id": "1395f727",
   "metadata": {},
   "source": [
    "**In general you can do the following steps in order to perform a two-sample t-test**:\n",
    "1. Load the data\n",
    "2. Identify the two groups for the t-test\n",
    "3. Inspect and clean these groups (ttest_ind function cannot handle missing values)\n",
    "4. Perform the t-test\n",
    "\n",
    "```python\n",
    "# Perform the t-test\n",
    "t_stat, p = ttest_ind(group1,group2)\n",
    "\n",
    "# Print the results\n",
    "print('t-statistics: {}\\np-value: {} '.format(t_stat, p))\n",
    "```"
   ]
  },
  {
   "cell_type": "markdown",
   "id": "0df13240",
   "metadata": {},
   "source": [
    "### ANOVA (one-way)"
   ]
  },
  {
   "cell_type": "markdown",
   "id": "0f7da029",
   "metadata": {},
   "source": [
    "Generate data"
   ]
  },
  {
   "cell_type": "code",
   "execution_count": 23,
   "id": "d74015cf",
   "metadata": {},
   "outputs": [],
   "source": [
    "# Set the seed for the random number generator\n",
    "np.random.seed(42)\n",
    "\n",
    "# Generate data for group 1 with a mean of 10 and a standard deviation of 2\n",
    "data1 = np.random.normal(10, 2, size=50)\n",
    "\n",
    "# Generate data for group 2 with a mean of 12 and a standard deviation of 3\n",
    "data2 = np.random.normal(12, 3, size=60)\n",
    "\n",
    "# Generate data for group 3 with a mean of 15 and a standard deviation of 4\n",
    "data3 = np.random.normal(15, 4, size=70)\n",
    "\n",
    "# Combine the data into a single array\n",
    "data = np.concatenate([data1, data2, data3])\n",
    "\n",
    "# Create a list of labels indicating the group for each data point\n",
    "labels = ['group1'] * len(data1) + ['group2'] * len(data2) + ['group3'] * len(data3)"
   ]
  },
  {
   "cell_type": "code",
   "execution_count": 25,
   "id": "d7daacad",
   "metadata": {},
   "outputs": [
    {
     "data": {
      "text/plain": [
       "<AxesSubplot: >"
      ]
     },
     "execution_count": 25,
     "metadata": {},
     "output_type": "execute_result"
    },
    {
     "data": {
      "image/png": "[encoded data removed]",
      "text/plain": [
       "<Figure size 640x480 with 1 Axes>"
      ]
     },
     "metadata": {},
     "output_type": "display_data"
    }
   ],
   "source": [
    "# Create a boxplot of the data\n",
    "sns.boxplot(x=labels, y=data)"
   ]
  },
  {
   "cell_type": "code",
   "execution_count": 33,
   "id": "50330c90",
   "metadata": {},
   "outputs": [
    {
     "name": "stdout",
     "output_type": "stream",
     "text": [
      "                            OLS Regression Results                            \n",
      "==============================================================================\n",
      "Dep. Variable:                   data   R-squared:                       0.376\n",
      "Model:                            OLS   Adj. R-squared:                  0.369\n",
      "Method:                 Least Squares   F-statistic:                     53.30\n",
      "Date:                Thu, 29 Dec 2022   Prob (F-statistic):           7.61e-19\n",
      "Time:                        14:59:06   Log-Likelihood:                -458.19\n",
      "No. Observations:                 180   AIC:                             922.4\n",
      "Df Residuals:                     177   BIC:                             931.9\n",
      "Df Model:                           2                                         \n",
      "Covariance Type:            nonrobust                                         \n",
      "===================================================================================\n",
      "                      coef    std err          t      P>|t|      [0.025      0.975]\n",
      "-----------------------------------------------------------------------------------\n",
      "Intercept           9.5491      0.440     21.704      0.000       8.681      10.417\n",
      "group[T.group2]     2.4707      0.596      4.147      0.000       1.295       3.646\n",
      "group[T.group3]     5.8449      0.576     10.147      0.000       4.708       6.982\n",
      "==============================================================================\n",
      "Omnibus:                        5.527   Durbin-Watson:                   2.197\n",
      "Prob(Omnibus):                  0.063   Jarque-Bera (JB):                6.448\n",
      "Skew:                           0.222   Prob(JB):                       0.0398\n",
      "Kurtosis:                       3.814   Cond. No.                         4.06\n",
      "==============================================================================\n",
      "\n",
      "Notes:\n",
      "[1] Standard Errors assume that the covariance matrix of the errors is correctly specified.\n",
      "               sum_sq     df          F        PR(>F)\n",
      "group     1031.661237    2.0  53.298244  7.613932e-19\n",
      "Residual  1713.039916  177.0        NaN           NaN\n"
     ]
    }
   ],
   "source": [
    "# Convert the data and labels to a Pandas DataFrame\n",
    "df = pd.DataFrame({'data': data, 'group': labels})\n",
    "\n",
    "# Create a model using the ols function and fit the model\n",
    "model = ols('data ~ group', data=df).fit()\n",
    "\n",
    "# Print a summary\n",
    "print(model.summary())\n",
    "\n",
    "# Extract the ANOVA table\n",
    "table = sm.stats.anova_lm(results, typ=2)\n",
    "\n",
    "# Print the ANOVA table\n",
    "print(table)"
   ]
  },
  {
   "cell_type": "markdown",
   "id": "209dce28",
   "metadata": {},
   "source": [
    "### ANOVA (two-way)"
   ]
  },
  {
   "cell_type": "markdown",
   "id": "a3cd0c4f",
   "metadata": {},
   "source": [
    "Generate data"
   ]
  },
  {
   "cell_type": "code",
   "execution_count": 93,
   "id": "0dc724fc",
   "metadata": {
    "scrolled": false
   },
   "outputs": [
    {
     "name": "stdout",
     "output_type": "stream",
     "text": [
      "60, 60, 60\n"
     ]
    }
   ],
   "source": [
    "# Load the data into a Pandas DataFrame\n",
    "leng = [4.2, 11.5, 7.3, 5.8, 6.4, 10, 11.2, 11.2, 5.2, 7, 16.5, 16.5, 15.2, 17.3, 22.5, 17.3, 13.6, 14.5, 18.8, 15.5, 23.6, 18.5, 33.9, 25.5, 26.4, 32.5, 26.7, 21.5, 23.3, 29.5, 15.2, 21.5, 17.6, 9.7, 14.5, 10, 8.2, 9.4, 16.5, 9.7, 19.7, 23.3, 23.6, 26.4, 20, 25.2, 25.8, 21.2, 14.5, 27.3, 25.5, 26.4, 22.4, 24.5, 24.8, 30.9, 26.4, 27.3, 29.4, 23]\n",
    "supp = ['VC', 'VC', 'VC', 'VC', 'VC', 'VC', 'VC', 'VC', 'VC', 'VC', 'VC', 'VC', 'VC', 'VC', 'VC', 'VC', 'VC', 'VC', 'VC', 'VC', 'VC', 'VC', 'VC', 'VC', 'VC', 'VC', 'VC', 'VC', 'VC', 'VC', 'OJ', 'OJ', 'OJ', 'OJ', 'OJ', 'OJ', 'OJ', 'OJ', 'OJ', 'OJ', 'OJ', 'OJ', 'OJ', 'OJ', 'OJ', 'OJ', 'OJ', 'OJ', 'OJ', 'OJ', 'OJ', 'OJ', 'OJ', 'OJ', 'OJ', 'OJ', 'OJ', 'OJ', 'VC', 'OJ']\n",
    "dose = [0.5, 0.5, 0.5, 0.5, 0.5, 0.5, 0.5, 0.5, 0.5, 0.5, 1, 1, 1, 1, 1, 1, 1, 1, 1, 1, 2, 2, 2, 2, 2, 2, 2, 2, 2, 2, 0.5, 0.5, 0.5, 0.5, 0.5, 0.5, 0.5, 0.5, 0.5, 0.5, 1, 1, 1, 1, 1, 1, 1, 1, 1, 1, 2, 2, 2, 2, 2, 2, 2, 2, 2, 2]\n",
    "\n",
    "print('{}, {}, {}'.format(len(leng),len(supp),len(dose)))\n",
    "\n",
    "df = pd.DataFrame({'len': leng, 'supp': supp,'dose': dose})"
   ]
  },
  {
   "cell_type": "code",
   "execution_count": 95,
   "id": "1e323406",
   "metadata": {
    "scrolled": false
   },
   "outputs": [
    {
     "data": {
      "text/plain": [
       "<AxesSubplot: xlabel='dose', ylabel='len'>"
      ]
     },
     "execution_count": 95,
     "metadata": {},
     "output_type": "execute_result"
    },
    {
     "data": {
      "image/png": "[encoded data removed]",
      "text/plain": [
       "<Figure size 640x480 with 1 Axes>"
      ]
     },
     "metadata": {},
     "output_type": "display_data"
    }
   ],
   "source": [
    "# Create a boxplot of the data, grouped by both factors\n",
    "sns.boxplot(data=df, x='dose', y='len', hue='supp')\n"
   ]
  },
  {
   "cell_type": "code",
   "execution_count": 97,
   "id": "09ce18da",
   "metadata": {},
   "outputs": [
    {
     "name": "stdout",
     "output_type": "stream",
     "text": [
      "                            OLS Regression Results                            \n",
      "==============================================================================\n",
      "Dep. Variable:                   leng   R-squared:                       0.729\n",
      "Model:                            OLS   Adj. R-squared:                  0.715\n",
      "Method:                 Least Squares   F-statistic:                     50.28\n",
      "Date:                Thu, 29 Dec 2022   Prob (F-statistic):           6.73e-16\n",
      "Time:                        16:00:52   Log-Likelihood:                -167.51\n",
      "No. Observations:                  60   AIC:                             343.0\n",
      "Df Residuals:                      56   BIC:                             351.4\n",
      "Df Model:                           3                                         \n",
      "Covariance Type:            nonrobust                                         \n",
      "===================================================================================\n",
      "                      coef    std err          t      P>|t|      [0.025      0.975]\n",
      "-----------------------------------------------------------------------------------\n",
      "Intercept          11.6728      1.597      7.310      0.000       8.474      14.871\n",
      "supp[T.VC]         -8.5001      2.239     -3.796      0.000     -12.986      -4.014\n",
      "dose                7.6361      1.235      6.184      0.000       5.163      10.110\n",
      "dose:supp[T.VC]     4.2544      1.696      2.508      0.015       0.856       7.652\n",
      "==============================================================================\n",
      "Omnibus:                        1.296   Durbin-Watson:                   1.683\n",
      "Prob(Omnibus):                  0.523   Jarque-Bera (JB):                1.058\n",
      "Skew:                           0.074   Prob(JB):                        0.589\n",
      "Kurtosis:                       2.366   Cond. No.                         11.2\n",
      "==============================================================================\n",
      "\n",
      "Notes:\n",
      "[1] Standard Errors assume that the covariance matrix of the errors is correctly specified.\n",
      "             df       sum_sq      mean_sq           F        PR(>F)\n",
      "supp        1.0   134.630090   134.630090    8.065928  6.276371e-03\n",
      "dose        1.0  2277.874373  2277.874373  136.471508  1.214931e-16\n",
      "dose:supp   1.0   104.997202   104.997202    6.290569  1.506244e-02\n",
      "Residual   56.0   934.707669    16.691208         NaN           NaN\n"
     ]
    }
   ],
   "source": [
    "# Create a model using the ols function\n",
    "model = ols('leng ~ dose * supp', data=df)\n",
    "\n",
    "# Fit the model and print a summary\n",
    "results = model.fit()\n",
    "print(results.summary())\n",
    "\n",
    "# Extract the ANOVA table\n",
    "table = sm.stats.anova_lm(results)\n",
    "\n",
    "# Print the ANOVA table\n",
    "print(table)"
   ]
  },
  {
   "cell_type": "markdown",
   "id": "60982eaf",
   "metadata": {},
   "source": [
    "### Chi-squared test"
   ]
  },
  {
   "cell_type": "markdown",
   "id": "7f0215a4",
   "metadata": {},
   "source": [
    "Imagine you are a market researcher who is interested in understanding the relationship between the type of product a person buys and their income level. You conduct a survey and ask 100 people to indicate the type of product they most recently purchased (either a low-priced product or a high-priced product) and their income level (either low, medium, or high). You record the results of the survey in the following contingency table:\n",
    "\n",
    "|Income Level|Low-priced product|High-priced product|\n",
    "|---|---|---|\n",
    "|Low|20|10|\n",
    "|Medium|30|20|\n",
    "|High|10|40|"
   ]
  },
  {
   "cell_type": "code",
   "execution_count": 106,
   "id": "89d3fcec",
   "metadata": {},
   "outputs": [],
   "source": [
    "# Load the data into a NumPy array\n",
    "data = np.array([[20, 10],\n",
    "                 [30, 20],\n",
    "                 [10, 40]])"
   ]
  },
  {
   "cell_type": "code",
   "execution_count": 109,
   "id": "98893264",
   "metadata": {},
   "outputs": [
    {
     "name": "stdout",
     "output_type": "stream",
     "text": [
      "Chi-squared statistic: 22.698\n",
      "p-value: 0.000012\n"
     ]
    }
   ],
   "source": [
    "# Perform the chi-squared test\n",
    "chi2, p, dof, expected = chi2_contingency(data)\n",
    "\n",
    "# Print the results of the test\n",
    "print(f'Chi-squared statistic: {chi2:.3f}')\n",
    "print(f'p-value: {p:.6f}')"
   ]
  },
  {
   "cell_type": "markdown",
   "id": "813a5bcf",
   "metadata": {},
   "source": [
    "The p-value of $p=0.000012$ means that the observed relationship between income level and type of product purchased is unlikely to be by chance. Thus, you can conclude that there is a relationship between these variables.\n",
    "\n",
    "The chi-squared statistic $chi^2=22.698$ indicates a relatively strong relationship between income level and type of product purchased. In general, the larger $chi^2$, the stronger the relationship."
   ]
  },
  {
   "cell_type": "code",
   "execution_count": null,
   "id": "d680d6fd",
   "metadata": {},
   "outputs": [],
   "source": []
  }
 ],
 "metadata": {
  "kernelspec": {
   "display_name": "Python 3 (ipykernel)",
   "language": "python",
   "name": "python3"
  },
  "language_info": {
   "codemirror_mode": {
    "name": "ipython",
    "version": 3
   },
   "file_extension": ".py",
   "mimetype": "text/x-python",
   "name": "python",
   "nbconvert_exporter": "python",
   "pygments_lexer": "ipython3",
   "version": "3.10.4"
  }
 },
 "nbformat": 4,
 "nbformat_minor": 5
}
